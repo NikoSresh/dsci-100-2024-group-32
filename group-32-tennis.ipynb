{
 "cells": [
  {
   "cell_type": "markdown",
   "id": "2d5c188e-6ae2-40a8-8740-8bc0a6711d2d",
   "metadata": {},
   "source": [
    "\"TITLE\""
   ]
  },
  {
   "cell_type": "markdown",
   "id": "65de972d-035a-4da8-8acf-a35346ee64c0",
   "metadata": {},
   "source": [
    "\"INTRODUCTION\"\n",
    "\n",
    "- BACKROUND INFO\n",
    "\n",
    "- QUESTION\n",
    "\n",
    "- IDENTIFY AND DESCRIBE DATASET"
   ]
  },
  {
   "cell_type": "markdown",
   "id": "2383d434-fe19-439e-b3f0-325a31e4b138",
   "metadata": {},
   "source": [
    "PRELIMINARY EXPLORATORY DATA ANALYSIS:"
   ]
  },
  {
   "cell_type": "markdown",
   "id": "eacda594-c383-4f46-846a-57d037b33cf3",
   "metadata": {},
   "source": [
    "- Reading the data into R"
   ]
  },
  {
   "cell_type": "code",
   "execution_count": 32,
   "id": "8ce37356-c488-48dc-b8ea-246f6c8524e5",
   "metadata": {},
   "outputs": [
    {
     "name": "stderr",
     "output_type": "stream",
     "text": [
      "\u001b[1m\u001b[22mNew names:\n",
      "\u001b[36m•\u001b[39m `` -> `...1`\n",
      "\u001b[1mRows: \u001b[22m\u001b[34m6866\u001b[39m \u001b[1mColumns: \u001b[22m\u001b[34m50\u001b[39m\n",
      "\u001b[36m──\u001b[39m \u001b[1mColumn specification\u001b[22m \u001b[36m────────────────────────────────────────────────────────\u001b[39m\n",
      "\u001b[1mDelimiter:\u001b[22m \",\"\n",
      "\u001b[31mchr\u001b[39m (16): tourney_id, tourney_name, surface, tourney_level, winner_seed, win...\n",
      "\u001b[32mdbl\u001b[39m (34): ...1, draw_size, tourney_date, match_num, winner_id, winner_ht, wi...\n",
      "\n",
      "\u001b[36mℹ\u001b[39m Use `spec()` to retrieve the full column specification for this data.\n",
      "\u001b[36mℹ\u001b[39m Specify the column types or set `show_col_types = FALSE` to quiet this message.\n"
     ]
    }
   ],
   "source": [
    "library(tidyverse)\n",
    "\n",
    "tennis_full_data <- read_csv(\"data/tennis_data.csv\")"
   ]
  },
  {
   "cell_type": "markdown",
   "id": "1790e062-e9c0-4bda-ab46-2149b6e4dc96",
   "metadata": {},
   "source": [
    "Only the columns which will allow us to explore our question should be selected, Filtered for the top 100 ranking players so more amateur players are unacccounted for. "
   ]
  },
  {
   "cell_type": "code",
   "execution_count": 33,
   "id": "34c87de1-3d92-412b-8872-4f1b75560e2d",
   "metadata": {},
   "outputs": [],
   "source": [
    "tennis_data <- tennis_full_data |>\n",
    "             filter(winner_rank <= 100) |>\n",
    "             select(\"surface\", \"minutes\", \"w_ace\", \"w_df\", \"w_svpt\")"
   ]
  },
  {
   "cell_type": "code",
   "execution_count": 34,
   "id": "8e09a598-5480-488d-a6df-37c9c00da92f",
   "metadata": {},
   "outputs": [],
   "source": [
    "tennis_data_mins <- tennis_data |>\n",
    "                group_by(surface) |>\n",
    "                summarize(\n",
    "                    mean_minutes = mean(minutes, na.rm = TRUE),\n",
    "                    mean_w_svpt = mean(w_svpt, na.rm = TRUE),\n",
    "                    mean_w_df = mean(w_df, na.rm = TRUE),\n",
    "                    mean_w_ace = mean(w_ace, na.rm = TRUE)\n",
    "                    ) |>\n",
    "                filter(surface == \"Grass\" | surface == \"Hard\" | surface == \"Clay\")"
   ]
  },
  {
   "cell_type": "code",
   "execution_count": 35,
   "id": "4423aa2e-cf2d-49a4-84f1-e0e00a3c7253",
   "metadata": {},
   "outputs": [
    {
     "data": {
      "text/html": [
       "<table class=\"dataframe\">\n",
       "<caption>A tibble: 3 × 5</caption>\n",
       "<thead>\n",
       "\t<tr><th scope=col>surface</th><th scope=col>mean_minutes</th><th scope=col>mean_w_svpt</th><th scope=col>mean_w_df</th><th scope=col>mean_w_ace</th></tr>\n",
       "\t<tr><th scope=col>&lt;chr&gt;</th><th scope=col>&lt;dbl&gt;</th><th scope=col>&lt;dbl&gt;</th><th scope=col>&lt;dbl&gt;</th><th scope=col>&lt;dbl&gt;</th></tr>\n",
       "</thead>\n",
       "<tbody>\n",
       "\t<tr><td>Clay </td><td>113.0617</td><td>78.58183</td><td>2.511939</td><td> 5.304601</td></tr>\n",
       "\t<tr><td>Grass</td><td>114.8513</td><td>87.03796</td><td>2.967883</td><td>10.162044</td></tr>\n",
       "\t<tr><td>Hard </td><td>107.7224</td><td>77.89763</td><td>2.826036</td><td> 8.143491</td></tr>\n",
       "</tbody>\n",
       "</table>\n"
      ],
      "text/latex": [
       "A tibble: 3 × 5\n",
       "\\begin{tabular}{lllll}\n",
       " surface & mean\\_minutes & mean\\_w\\_svpt & mean\\_w\\_df & mean\\_w\\_ace\\\\\n",
       " <chr> & <dbl> & <dbl> & <dbl> & <dbl>\\\\\n",
       "\\hline\n",
       "\t Clay  & 113.0617 & 78.58183 & 2.511939 &  5.304601\\\\\n",
       "\t Grass & 114.8513 & 87.03796 & 2.967883 & 10.162044\\\\\n",
       "\t Hard  & 107.7224 & 77.89763 & 2.826036 &  8.143491\\\\\n",
       "\\end{tabular}\n"
      ],
      "text/markdown": [
       "\n",
       "A tibble: 3 × 5\n",
       "\n",
       "| surface &lt;chr&gt; | mean_minutes &lt;dbl&gt; | mean_w_svpt &lt;dbl&gt; | mean_w_df &lt;dbl&gt; | mean_w_ace &lt;dbl&gt; |\n",
       "|---|---|---|---|---|\n",
       "| Clay  | 113.0617 | 78.58183 | 2.511939 |  5.304601 |\n",
       "| Grass | 114.8513 | 87.03796 | 2.967883 | 10.162044 |\n",
       "| Hard  | 107.7224 | 77.89763 | 2.826036 |  8.143491 |\n",
       "\n"
      ],
      "text/plain": [
       "  surface mean_minutes mean_w_svpt mean_w_df mean_w_ace\n",
       "1 Clay    113.0617     78.58183    2.511939   5.304601 \n",
       "2 Grass   114.8513     87.03796    2.967883  10.162044 \n",
       "3 Hard    107.7224     77.89763    2.826036   8.143491 "
      ]
     },
     "metadata": {},
     "output_type": "display_data"
    }
   ],
   "source": [
    "tennis_data_mins"
   ]
  },
  {
   "cell_type": "code",
   "execution_count": null,
   "id": "dc2d35ce-d5fa-4eb8-86a5-e581b78db5b3",
   "metadata": {},
   "outputs": [],
   "source": []
  },
  {
   "cell_type": "code",
   "execution_count": null,
   "id": "ab0a70e0-8fb0-416a-ac9e-400f2591f272",
   "metadata": {},
   "outputs": [],
   "source": []
  }
 ],
 "metadata": {
  "kernelspec": {
   "display_name": "R",
   "language": "R",
   "name": "ir"
  },
  "language_info": {
   "codemirror_mode": "r",
   "file_extension": ".r",
   "mimetype": "text/x-r-source",
   "name": "R",
   "pygments_lexer": "r",
   "version": "4.3.1"
  }
 },
 "nbformat": 4,
 "nbformat_minor": 5
}
